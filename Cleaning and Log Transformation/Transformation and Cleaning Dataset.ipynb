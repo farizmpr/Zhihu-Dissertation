{
 "cells": [
  {
   "cell_type": "markdown",
   "id": "79bc22a0",
   "metadata": {},
   "source": [
    "# Importing Libraries"
   ]
  },
  {
   "cell_type": "code",
   "execution_count": 1,
   "id": "a16d2c91",
   "metadata": {},
   "outputs": [],
   "source": [
    "import psycopg2\n",
    "from psycopg2 import OperationalError\n",
    "import csv\n",
    "import pandas as pd\n",
    "import datetime\n",
    "import matplotlib.pyplot as plt\n",
    "import seaborn as sns\n",
    "import numpy as np\n",
    "import statsmodels.api as sm"
   ]
  },
  {
   "cell_type": "markdown",
   "id": "419c82c3",
   "metadata": {},
   "source": [
    "## Uploading the Data"
   ]
  },
  {
   "cell_type": "code",
   "execution_count": 2,
   "id": "b75d68f5",
   "metadata": {},
   "outputs": [],
   "source": [
    "df_answer_content=pd.read_csv('answer_content.csv')"
   ]
  },
  {
   "cell_type": "code",
   "execution_count": 3,
   "id": "ed563740",
   "metadata": {},
   "outputs": [
    {
     "name": "stderr",
     "output_type": "stream",
     "text": [
      "C:\\Users\\fariz\\AppData\\Local\\Temp\\ipykernel_23388\\1351524476.py:1: DtypeWarning: Columns (3,10,11,19) have mixed types. Specify dtype option on import or set low_memory=False.\n",
      "  df_article_and_answer_info=pd.read_csv('article_and_answer_info.csv')\n",
      "C:\\Users\\fariz\\AppData\\Local\\Temp\\ipykernel_23388\\1351524476.py:3: DtypeWarning: Columns (11) have mixed types. Specify dtype option on import or set low_memory=False.\n",
      "  df_questions=pd.read_csv('questions.csv')\n"
     ]
    }
   ],
   "source": [
    "df_article_and_answer_info=pd.read_csv('article_and_answer_info.csv')\n",
    "df_article_content=pd.read_csv('article_content.csv')\n",
    "df_questions=pd.read_csv('questions.csv')\n",
    "df_timeline=pd.read_csv('timeline.csv')\n",
    "df_topic_tree=pd.read_csv('topic_tree.csv')\n",
    "df_user_info=pd.read_csv('user_info.csv')"
   ]
  },
  {
   "cell_type": "markdown",
   "id": "12f2c00f",
   "metadata": {},
   "source": [
    "### Data Cleaning"
   ]
  },
  {
   "cell_type": "code",
   "execution_count": 4,
   "id": "6775d91b",
   "metadata": {},
   "outputs": [],
   "source": [
    "## converting timeline into 2014-07-24 04:04:16 yyyy-mm-dd hh:mm:ss\n",
    "df_timeline['created_time']=pd.to_datetime(df_timeline['created_time'],unit='s')"
   ]
  },
  {
   "cell_type": "markdown",
   "id": "0007d9ac",
   "metadata": {},
   "source": [
    "##### Choosing the relevant columns\n",
    "- Population based on **X. Han, Y. Li and T. Wang** paper, we construct the active influencers, which actively posted article \n",
    "- Filtering the influencers which still active and posted article or answers. The badge is divided into three category, both badges, best-answerer, and self identity.\n",
    "- Gap on papers:\n",
    "    - it is said that it only cover the relatinship of the number of vote on the number of answers. the on this section, it covers the direct effect of how votes directly affect answers without intermediate steps. Then, indirect effect, one of the formula counted votes lead to increasing number of answers.\n",
    "    - It may be that the number of votes will increase the number of answer, but does the number of votes (viral) will increase the number of productivity ?\n",
    "    - it was identify the other causal inference but did not separate the difference effect between the contents"
   ]
  },
  {
   "cell_type": "code",
   "execution_count": 5,
   "id": "a9b08cb4",
   "metadata": {},
   "outputs": [],
   "source": [
    "# Selecting the relevant columns based on literature review\n",
    "df_article_and_answer_info=df_article_and_answer_info[['id','type','userId','voteupCount','commentCount','answerType']]\n",
    "df_article_content\n",
    "df_user_info=df_user_info[['id', 'name', 'gender', 'badgeType', 'badgeDescription','followerCount','followingCount']]\n",
    "df_timeline=df_timeline[['id', 'user_id', 'target_id', 'target_type', 'verb', 'action_text','created_time']]"
   ]
  },
  {
   "cell_type": "code",
   "execution_count": 6,
   "id": "738fd083",
   "metadata": {},
   "outputs": [],
   "source": [
    "## Filling Badges new with the additional dataset\n",
    "file_path = 'time_invariant_control_full_sample.pkl'\n",
    "data = pd.read_pickle(file_path)"
   ]
  },
  {
   "cell_type": "code",
   "execution_count": 7,
   "id": "986ed9a0",
   "metadata": {},
   "outputs": [],
   "source": [
    "# merging user_info with new dataset to fill the null value on badges\n",
    "merged_df = pd.merge(df_user_info, data, left_on='id', right_on='user_id', how='left', suffixes=('', '_new'))\n",
    "\n",
    "# Refill the 'badgeType' column based on the conditions\n",
    "def determine_badge(row):\n",
    "    if row['identity_badge'] == 1 and row['best_answerer_badge'] == 0:\n",
    "        return 'identity'\n",
    "    elif row['best_answerer_badge'] == 1 and row['identity_badge'] == 0:\n",
    "        return 'best_answerer'\n",
    "    else:\n",
    "        return 'both badges'\n",
    "    return row['badgeType']\n",
    "\n",
    "merged_df['badgeType'] = merged_df.apply(determine_badge, axis=1)\n",
    "\n",
    "# Drop the redundant new columns\n",
    "merged_df = merged_df.drop(columns=[col for col in merged_df.columns if col.endswith('_new') or col in ['identity_badge', 'best_answerer_badge']])"
   ]
  },
  {
   "cell_type": "markdown",
   "id": "515decc5",
   "metadata": {},
   "source": [
    "### Descriptive Statisics"
   ]
  },
  {
   "cell_type": "markdown",
   "id": "32e5db3c",
   "metadata": {},
   "source": [
    "#### Article and answer info descriptive statistics"
   ]
  },
  {
   "cell_type": "code",
   "execution_count": 8,
   "id": "0275395f",
   "metadata": {},
   "outputs": [
    {
     "name": "stdout",
     "output_type": "stream",
     "text": [
      "<class 'pandas.core.frame.DataFrame'>\n",
      "RangeIndex: 2735035 entries, 0 to 2735034\n",
      "Data columns (total 6 columns):\n",
      " #   Column        Dtype \n",
      "---  ------        ----- \n",
      " 0   id            int64 \n",
      " 1   type          object\n",
      " 2   userId        object\n",
      " 3   voteupCount   int64 \n",
      " 4   commentCount  int64 \n",
      " 5   answerType    object\n",
      "dtypes: int64(3), object(3)\n",
      "memory usage: 125.2+ MB\n",
      "None\n"
     ]
    },
    {
     "data": {
      "text/html": [
       "<div>\n",
       "<style scoped>\n",
       "    .dataframe tbody tr th:only-of-type {\n",
       "        vertical-align: middle;\n",
       "    }\n",
       "\n",
       "    .dataframe tbody tr th {\n",
       "        vertical-align: top;\n",
       "    }\n",
       "\n",
       "    .dataframe thead th {\n",
       "        text-align: right;\n",
       "    }\n",
       "</style>\n",
       "<table border=\"1\" class=\"dataframe\">\n",
       "  <thead>\n",
       "    <tr style=\"text-align: right;\">\n",
       "      <th></th>\n",
       "      <th>id</th>\n",
       "      <th>voteupCount</th>\n",
       "      <th>commentCount</th>\n",
       "    </tr>\n",
       "  </thead>\n",
       "  <tbody>\n",
       "    <tr>\n",
       "      <th>count</th>\n",
       "      <td>2.735035e+06</td>\n",
       "      <td>2.735035e+06</td>\n",
       "      <td>2.735035e+06</td>\n",
       "    </tr>\n",
       "    <tr>\n",
       "      <th>mean</th>\n",
       "      <td>1.392597e+09</td>\n",
       "      <td>1.178040e+03</td>\n",
       "      <td>1.016215e+02</td>\n",
       "    </tr>\n",
       "    <tr>\n",
       "      <th>std</th>\n",
       "      <td>9.837581e+08</td>\n",
       "      <td>4.987114e+03</td>\n",
       "      <td>3.707023e+02</td>\n",
       "    </tr>\n",
       "    <tr>\n",
       "      <th>min</th>\n",
       "      <td>1.220201e+07</td>\n",
       "      <td>0.000000e+00</td>\n",
       "      <td>0.000000e+00</td>\n",
       "    </tr>\n",
       "    <tr>\n",
       "      <th>25%</th>\n",
       "      <td>4.906019e+08</td>\n",
       "      <td>1.800000e+01</td>\n",
       "      <td>2.000000e+00</td>\n",
       "    </tr>\n",
       "    <tr>\n",
       "      <th>50%</th>\n",
       "      <td>1.285185e+09</td>\n",
       "      <td>8.500000e+01</td>\n",
       "      <td>1.300000e+01</td>\n",
       "    </tr>\n",
       "    <tr>\n",
       "      <th>75%</th>\n",
       "      <td>2.312342e+09</td>\n",
       "      <td>5.160000e+02</td>\n",
       "      <td>6.800000e+01</td>\n",
       "    </tr>\n",
       "    <tr>\n",
       "      <th>max</th>\n",
       "      <td>3.155393e+09</td>\n",
       "      <td>6.337590e+05</td>\n",
       "      <td>1.271270e+05</td>\n",
       "    </tr>\n",
       "  </tbody>\n",
       "</table>\n",
       "</div>"
      ],
      "text/plain": [
       "                 id   voteupCount  commentCount\n",
       "count  2.735035e+06  2.735035e+06  2.735035e+06\n",
       "mean   1.392597e+09  1.178040e+03  1.016215e+02\n",
       "std    9.837581e+08  4.987114e+03  3.707023e+02\n",
       "min    1.220201e+07  0.000000e+00  0.000000e+00\n",
       "25%    4.906019e+08  1.800000e+01  2.000000e+00\n",
       "50%    1.285185e+09  8.500000e+01  1.300000e+01\n",
       "75%    2.312342e+09  5.160000e+02  6.800000e+01\n",
       "max    3.155393e+09  6.337590e+05  1.271270e+05"
      ]
     },
     "execution_count": 8,
     "metadata": {},
     "output_type": "execute_result"
    }
   ],
   "source": [
    "print(df_article_and_answer_info.info())\n",
    "df_article_and_answer_info.describe()"
   ]
  },
  {
   "cell_type": "code",
   "execution_count": 9,
   "id": "208d57fa",
   "metadata": {},
   "outputs": [
    {
     "data": {
      "text/plain": [
       "id                   0\n",
       "type                 0\n",
       "userId               6\n",
       "voteupCount          0\n",
       "commentCount         0\n",
       "answerType      458352\n",
       "dtype: int64"
      ]
     },
     "execution_count": 9,
     "metadata": {},
     "output_type": "execute_result"
    }
   ],
   "source": [
    "df_article_and_answer_info.isnull().sum()"
   ]
  },
  {
   "cell_type": "markdown",
   "id": "5399535e",
   "metadata": {},
   "source": [
    "#### Descriptive Statistics Article Content"
   ]
  },
  {
   "cell_type": "code",
   "execution_count": 10,
   "id": "329aa753",
   "metadata": {},
   "outputs": [
    {
     "name": "stdout",
     "output_type": "stream",
     "text": [
      "<class 'pandas.core.frame.DataFrame'>\n",
      "RangeIndex: 458687 entries, 0 to 458686\n",
      "Data columns (total 2 columns):\n",
      " #   Column   Non-Null Count   Dtype \n",
      "---  ------   --------------   ----- \n",
      " 0   id       458687 non-null  int64 \n",
      " 1   content  458686 non-null  object\n",
      "dtypes: int64(1), object(1)\n",
      "memory usage: 7.0+ MB\n",
      "None\n"
     ]
    },
    {
     "data": {
      "text/html": [
       "<div>\n",
       "<style scoped>\n",
       "    .dataframe tbody tr th:only-of-type {\n",
       "        vertical-align: middle;\n",
       "    }\n",
       "\n",
       "    .dataframe tbody tr th {\n",
       "        vertical-align: top;\n",
       "    }\n",
       "\n",
       "    .dataframe thead th {\n",
       "        text-align: right;\n",
       "    }\n",
       "</style>\n",
       "<table border=\"1\" class=\"dataframe\">\n",
       "  <thead>\n",
       "    <tr style=\"text-align: right;\">\n",
       "      <th></th>\n",
       "      <th>id</th>\n",
       "    </tr>\n",
       "  </thead>\n",
       "  <tbody>\n",
       "    <tr>\n",
       "      <th>count</th>\n",
       "      <td>4.586870e+05</td>\n",
       "    </tr>\n",
       "    <tr>\n",
       "      <th>mean</th>\n",
       "      <td>2.545499e+08</td>\n",
       "    </tr>\n",
       "    <tr>\n",
       "      <th>std</th>\n",
       "      <td>2.075159e+08</td>\n",
       "    </tr>\n",
       "    <tr>\n",
       "      <th>min</th>\n",
       "      <td>1.955450e+07</td>\n",
       "    </tr>\n",
       "    <tr>\n",
       "      <th>25%</th>\n",
       "      <td>6.322008e+07</td>\n",
       "    </tr>\n",
       "    <tr>\n",
       "      <th>50%</th>\n",
       "      <td>1.513971e+08</td>\n",
       "    </tr>\n",
       "    <tr>\n",
       "      <th>75%</th>\n",
       "      <td>4.340485e+08</td>\n",
       "    </tr>\n",
       "    <tr>\n",
       "      <th>max</th>\n",
       "      <td>6.485584e+08</td>\n",
       "    </tr>\n",
       "  </tbody>\n",
       "</table>\n",
       "</div>"
      ],
      "text/plain": [
       "                 id\n",
       "count  4.586870e+05\n",
       "mean   2.545499e+08\n",
       "std    2.075159e+08\n",
       "min    1.955450e+07\n",
       "25%    6.322008e+07\n",
       "50%    1.513971e+08\n",
       "75%    4.340485e+08\n",
       "max    6.485584e+08"
      ]
     },
     "execution_count": 10,
     "metadata": {},
     "output_type": "execute_result"
    }
   ],
   "source": [
    "print(df_article_content.info())\n",
    "df_article_content.describe()"
   ]
  },
  {
   "cell_type": "code",
   "execution_count": 11,
   "id": "d61589df",
   "metadata": {},
   "outputs": [
    {
     "data": {
      "text/plain": [
       "id         0\n",
       "content    1\n",
       "dtype: int64"
      ]
     },
     "execution_count": 11,
     "metadata": {},
     "output_type": "execute_result"
    }
   ],
   "source": [
    "df_article_content.isna().sum()"
   ]
  },
  {
   "cell_type": "markdown",
   "id": "afd98577",
   "metadata": {},
   "source": [
    "#### Descriptive Statistics User Info"
   ]
  },
  {
   "cell_type": "code",
   "execution_count": 12,
   "id": "4bbb1900",
   "metadata": {},
   "outputs": [],
   "source": [
    "merged_df=merged_df[['id', 'name', 'gender', 'badgeType', 'badgeDescription','followerCount', 'followingCount']]"
   ]
  },
  {
   "cell_type": "code",
   "execution_count": 13,
   "id": "e10b1e9b",
   "metadata": {},
   "outputs": [
    {
     "name": "stdout",
     "output_type": "stream",
     "text": [
      "<class 'pandas.core.frame.DataFrame'>\n",
      "RangeIndex: 2296 entries, 0 to 2295\n",
      "Data columns (total 7 columns):\n",
      " #   Column            Non-Null Count  Dtype \n",
      "---  ------            --------------  ----- \n",
      " 0   id                2296 non-null   object\n",
      " 1   name              2296 non-null   object\n",
      " 2   gender            2296 non-null   int64 \n",
      " 3   badgeType         2296 non-null   object\n",
      " 4   badgeDescription  1514 non-null   object\n",
      " 5   followerCount     2296 non-null   int64 \n",
      " 6   followingCount    2296 non-null   int64 \n",
      "dtypes: int64(3), object(4)\n",
      "memory usage: 125.7+ KB\n",
      "None\n"
     ]
    },
    {
     "data": {
      "text/html": [
       "<div>\n",
       "<style scoped>\n",
       "    .dataframe tbody tr th:only-of-type {\n",
       "        vertical-align: middle;\n",
       "    }\n",
       "\n",
       "    .dataframe tbody tr th {\n",
       "        vertical-align: top;\n",
       "    }\n",
       "\n",
       "    .dataframe thead th {\n",
       "        text-align: right;\n",
       "    }\n",
       "</style>\n",
       "<table border=\"1\" class=\"dataframe\">\n",
       "  <thead>\n",
       "    <tr style=\"text-align: right;\">\n",
       "      <th></th>\n",
       "      <th>gender</th>\n",
       "      <th>followerCount</th>\n",
       "      <th>followingCount</th>\n",
       "    </tr>\n",
       "  </thead>\n",
       "  <tbody>\n",
       "    <tr>\n",
       "      <th>count</th>\n",
       "      <td>2296.000000</td>\n",
       "      <td>2.296000e+03</td>\n",
       "      <td>2296.000000</td>\n",
       "    </tr>\n",
       "    <tr>\n",
       "      <th>mean</th>\n",
       "      <td>0.674652</td>\n",
       "      <td>1.528452e+05</td>\n",
       "      <td>404.914199</td>\n",
       "    </tr>\n",
       "    <tr>\n",
       "      <th>std</th>\n",
       "      <td>0.613559</td>\n",
       "      <td>2.367946e+05</td>\n",
       "      <td>640.996425</td>\n",
       "    </tr>\n",
       "    <tr>\n",
       "      <th>min</th>\n",
       "      <td>-1.000000</td>\n",
       "      <td>0.000000e+00</td>\n",
       "      <td>0.000000</td>\n",
       "    </tr>\n",
       "    <tr>\n",
       "      <th>25%</th>\n",
       "      <td>1.000000</td>\n",
       "      <td>4.050450e+04</td>\n",
       "      <td>93.000000</td>\n",
       "    </tr>\n",
       "    <tr>\n",
       "      <th>50%</th>\n",
       "      <td>1.000000</td>\n",
       "      <td>8.349850e+04</td>\n",
       "      <td>229.500000</td>\n",
       "    </tr>\n",
       "    <tr>\n",
       "      <th>75%</th>\n",
       "      <td>1.000000</td>\n",
       "      <td>1.691505e+05</td>\n",
       "      <td>498.250000</td>\n",
       "    </tr>\n",
       "    <tr>\n",
       "      <th>max</th>\n",
       "      <td>1.000000</td>\n",
       "      <td>3.466603e+06</td>\n",
       "      <td>11692.000000</td>\n",
       "    </tr>\n",
       "  </tbody>\n",
       "</table>\n",
       "</div>"
      ],
      "text/plain": [
       "            gender  followerCount  followingCount\n",
       "count  2296.000000   2.296000e+03     2296.000000\n",
       "mean      0.674652   1.528452e+05      404.914199\n",
       "std       0.613559   2.367946e+05      640.996425\n",
       "min      -1.000000   0.000000e+00        0.000000\n",
       "25%       1.000000   4.050450e+04       93.000000\n",
       "50%       1.000000   8.349850e+04      229.500000\n",
       "75%       1.000000   1.691505e+05      498.250000\n",
       "max       1.000000   3.466603e+06    11692.000000"
      ]
     },
     "execution_count": 13,
     "metadata": {},
     "output_type": "execute_result"
    }
   ],
   "source": [
    "print(merged_df.info())\n",
    "merged_df.describe()"
   ]
  },
  {
   "cell_type": "code",
   "execution_count": 14,
   "id": "7dff34e1",
   "metadata": {},
   "outputs": [
    {
     "data": {
      "text/plain": [
       "id                    0\n",
       "name                  0\n",
       "gender                0\n",
       "badgeType             0\n",
       "badgeDescription    782\n",
       "followerCount         0\n",
       "followingCount        0\n",
       "dtype: int64"
      ]
     },
     "execution_count": 14,
     "metadata": {},
     "output_type": "execute_result"
    }
   ],
   "source": [
    "merged_df.isna().sum()"
   ]
  },
  {
   "cell_type": "markdown",
   "id": "016f5e46",
   "metadata": {},
   "source": [
    "#### Descriptive Statistics Timeline"
   ]
  },
  {
   "cell_type": "code",
   "execution_count": 15,
   "id": "07f14e92",
   "metadata": {},
   "outputs": [
    {
     "name": "stdout",
     "output_type": "stream",
     "text": [
      "<class 'pandas.core.frame.DataFrame'>\n",
      "RangeIndex: 6251237 entries, 0 to 6251236\n",
      "Data columns (total 7 columns):\n",
      " #   Column        Dtype         \n",
      "---  ------        -----         \n",
      " 0   id            int64         \n",
      " 1   user_id       object        \n",
      " 2   target_id     int64         \n",
      " 3   target_type   object        \n",
      " 4   verb          object        \n",
      " 5   action_text   object        \n",
      " 6   created_time  datetime64[ns]\n",
      "dtypes: datetime64[ns](1), int64(2), object(4)\n",
      "memory usage: 333.9+ MB\n",
      "None\n"
     ]
    },
    {
     "data": {
      "text/html": [
       "<div>\n",
       "<style scoped>\n",
       "    .dataframe tbody tr th:only-of-type {\n",
       "        vertical-align: middle;\n",
       "    }\n",
       "\n",
       "    .dataframe tbody tr th {\n",
       "        vertical-align: top;\n",
       "    }\n",
       "\n",
       "    .dataframe thead th {\n",
       "        text-align: right;\n",
       "    }\n",
       "</style>\n",
       "<table border=\"1\" class=\"dataframe\">\n",
       "  <thead>\n",
       "    <tr style=\"text-align: right;\">\n",
       "      <th></th>\n",
       "      <th>id</th>\n",
       "      <th>target_id</th>\n",
       "      <th>created_time</th>\n",
       "    </tr>\n",
       "  </thead>\n",
       "  <tbody>\n",
       "    <tr>\n",
       "      <th>count</th>\n",
       "      <td>6.251237e+06</td>\n",
       "      <td>6.251237e+06</td>\n",
       "      <td>6251237</td>\n",
       "    </tr>\n",
       "    <tr>\n",
       "      <th>mean</th>\n",
       "      <td>1.607185e+12</td>\n",
       "      <td>1.337539e+17</td>\n",
       "      <td>2020-12-05 16:09:43.099497472</td>\n",
       "    </tr>\n",
       "    <tr>\n",
       "      <th>min</th>\n",
       "      <td>1.406175e+12</td>\n",
       "      <td>2.019000e+03</td>\n",
       "      <td>2014-07-24 04:04:16</td>\n",
       "    </tr>\n",
       "    <tr>\n",
       "      <th>25%</th>\n",
       "      <td>1.568347e+12</td>\n",
       "      <td>4.573251e+08</td>\n",
       "      <td>2019-09-13 03:52:38</td>\n",
       "    </tr>\n",
       "    <tr>\n",
       "      <th>50%</th>\n",
       "      <td>1.608534e+12</td>\n",
       "      <td>1.291147e+09</td>\n",
       "      <td>2020-12-21 06:53:27</td>\n",
       "    </tr>\n",
       "    <tr>\n",
       "      <th>75%</th>\n",
       "      <td>1.649077e+12</td>\n",
       "      <td>2.481494e+09</td>\n",
       "      <td>2022-04-04 12:57:35</td>\n",
       "    </tr>\n",
       "    <tr>\n",
       "      <th>max</th>\n",
       "      <td>1.691386e+12</td>\n",
       "      <td>1.671605e+18</td>\n",
       "      <td>2023-08-07 05:27:06</td>\n",
       "    </tr>\n",
       "    <tr>\n",
       "      <th>std</th>\n",
       "      <td>4.864612e+10</td>\n",
       "      <td>4.000716e+17</td>\n",
       "      <td>NaN</td>\n",
       "    </tr>\n",
       "  </tbody>\n",
       "</table>\n",
       "</div>"
      ],
      "text/plain": [
       "                 id     target_id                   created_time\n",
       "count  6.251237e+06  6.251237e+06                        6251237\n",
       "mean   1.607185e+12  1.337539e+17  2020-12-05 16:09:43.099497472\n",
       "min    1.406175e+12  2.019000e+03            2014-07-24 04:04:16\n",
       "25%    1.568347e+12  4.573251e+08            2019-09-13 03:52:38\n",
       "50%    1.608534e+12  1.291147e+09            2020-12-21 06:53:27\n",
       "75%    1.649077e+12  2.481494e+09            2022-04-04 12:57:35\n",
       "max    1.691386e+12  1.671605e+18            2023-08-07 05:27:06\n",
       "std    4.864612e+10  4.000716e+17                            NaN"
      ]
     },
     "execution_count": 15,
     "metadata": {},
     "output_type": "execute_result"
    }
   ],
   "source": [
    "print(df_timeline.info())\n",
    "df_timeline.describe()"
   ]
  },
  {
   "cell_type": "code",
   "execution_count": 16,
   "id": "adf97228",
   "metadata": {},
   "outputs": [
    {
     "data": {
      "text/plain": [
       "id                   0\n",
       "user_id              0\n",
       "target_id            0\n",
       "target_type          0\n",
       "verb            568320\n",
       "action_text          0\n",
       "created_time         0\n",
       "dtype: int64"
      ]
     },
     "execution_count": 16,
     "metadata": {},
     "output_type": "execute_result"
    }
   ],
   "source": [
    "df_timeline.isna().sum()"
   ]
  },
  {
   "cell_type": "markdown",
   "id": "7da4bb7d",
   "metadata": {},
   "source": [
    "#### Data Distributions Check"
   ]
  },
  {
   "cell_type": "markdown",
   "id": "8159f8dc",
   "metadata": {},
   "source": [
    "#### Quantitative Columns"
   ]
  },
  {
   "cell_type": "code",
   "execution_count": 17,
   "id": "9ebda7fe",
   "metadata": {},
   "outputs": [],
   "source": [
    "Quantitative_columns=['voteupCount', 'commentCount', 'followerCount', 'followingCount']"
   ]
  },
  {
   "cell_type": "code",
   "execution_count": 18,
   "id": "4c4d7c32",
   "metadata": {},
   "outputs": [
    {
     "name": "stderr",
     "output_type": "stream",
     "text": [
      "C:\\Users\\fariz\\anaconda3\\Lib\\site-packages\\seaborn\\_oldcore.py:1498: FutureWarning: is_categorical_dtype is deprecated and will be removed in a future version. Use isinstance(dtype, CategoricalDtype) instead\n",
      "  if pd.api.types.is_categorical_dtype(vector):\n",
      "C:\\Users\\fariz\\anaconda3\\Lib\\site-packages\\seaborn\\_oldcore.py:1119: FutureWarning: use_inf_as_na option is deprecated and will be removed in a future version. Convert inf values to NaN before operating instead.\n",
      "  with pd.option_context('mode.use_inf_as_na', True):\n"
     ]
    },
    {
     "data": {
      "image/png": "[encoded data removed]",
      "text/plain": [
       "<Figure size 640x480 with 1 Axes>"
      ]
     },
     "metadata": {},
     "output_type": "display_data"
    },
    {
     "name": "stderr",
     "output_type": "stream",
     "text": [
      "C:\\Users\\fariz\\anaconda3\\Lib\\site-packages\\seaborn\\_oldcore.py:1498: FutureWarning: is_categorical_dtype is deprecated and will be removed in a future version. Use isinstance(dtype, CategoricalDtype) instead\n",
      "  if pd.api.types.is_categorical_dtype(vector):\n",
      "C:\\Users\\fariz\\anaconda3\\Lib\\site-packages\\seaborn\\_oldcore.py:1119: FutureWarning: use_inf_as_na option is deprecated and will be removed in a future version. Convert inf values to NaN before operating instead.\n",
      "  with pd.option_context('mode.use_inf_as_na', True):\n"
     ]
    },
    {
     "data": {
      "image/png": "[encoded data removed]",
      "text/plain": [
       "<Figure size 640x480 with 1 Axes>"
      ]
     },
     "metadata": {},
     "output_type": "display_data"
    },
    {
     "name": "stderr",
     "output_type": "stream",
     "text": [
      "C:\\Users\\fariz\\anaconda3\\Lib\\site-packages\\seaborn\\_oldcore.py:1498: FutureWarning: is_categorical_dtype is deprecated and will be removed in a future version. Use isinstance(dtype, CategoricalDtype) instead\n",
      "  if pd.api.types.is_categorical_dtype(vector):\n",
      "C:\\Users\\fariz\\anaconda3\\Lib\\site-packages\\seaborn\\_oldcore.py:1119: FutureWarning: use_inf_as_na option is deprecated and will be removed in a future version. Convert inf values to NaN before operating instead.\n",
      "  with pd.option_context('mode.use_inf_as_na', True):\n"
     ]
    },
    {
     "data": {
      "image/png": "[encoded data removed]",
      "text/plain": [
       "<Figure size 640x480 with 1 Axes>"
      ]
     },
     "metadata": {},
     "output_type": "display_data"
    },
    {
     "name": "stderr",
     "output_type": "stream",
     "text": [
      "C:\\Users\\fariz\\anaconda3\\Lib\\site-packages\\seaborn\\_oldcore.py:1498: FutureWarning: is_categorical_dtype is deprecated and will be removed in a future version. Use isinstance(dtype, CategoricalDtype) instead\n",
      "  if pd.api.types.is_categorical_dtype(vector):\n",
      "C:\\Users\\fariz\\anaconda3\\Lib\\site-packages\\seaborn\\_oldcore.py:1119: FutureWarning: use_inf_as_na option is deprecated and will be removed in a future version. Convert inf values to NaN before operating instead.\n",
      "  with pd.option_context('mode.use_inf_as_na', True):\n"
     ]
    },
    {
     "data": {
      "image/png": "[encoded data removed]",
      "text/plain": [
       "<Figure size 640x480 with 1 Axes>"
      ]
     },
     "metadata": {},
     "output_type": "display_data"
    }
   ],
   "source": [
    "for col in Quantitative_columns:\n",
    "    if col in df_article_and_answer_info:\n",
    "        sns.histplot(df_article_and_answer_info[col], kde=True)\n",
    "        plt.title(f'Distribution of {col}')\n",
    "        plt.show()\n",
    "    elif col in merged_df:\n",
    "        sns.histplot(merged_df[col], kde=True)\n",
    "        plt.title(f'Distribution of {col}')\n",
    "        plt.show()"
   ]
  },
  {
   "cell_type": "markdown",
   "id": "b6f6130c",
   "metadata": {},
   "source": [
    "#### Categorical Columns"
   ]
  },
  {
   "cell_type": "code",
   "execution_count": 19,
   "id": "138481f4",
   "metadata": {},
   "outputs": [
    {
     "name": "stdout",
     "output_type": "stream",
     "text": [
      "type\n",
      "answer     2276539\n",
      "article     458496\n",
      "Name: count, dtype: int64\n"
     ]
    }
   ],
   "source": [
    "print(df_article_and_answer_info['type'].value_counts())"
   ]
  },
  {
   "cell_type": "code",
   "execution_count": 20,
   "id": "0c087bd9",
   "metadata": {},
   "outputs": [
    {
     "name": "stdout",
     "output_type": "stream",
     "text": [
      "answerType\n",
      "normal    2271216\n",
      "paid         5467\n",
      "Name: count, dtype: int64\n"
     ]
    }
   ],
   "source": [
    "print(df_article_and_answer_info['answerType'].value_counts())"
   ]
  },
  {
   "cell_type": "code",
   "execution_count": 21,
   "id": "42775aec",
   "metadata": {},
   "outputs": [
    {
     "name": "stdout",
     "output_type": "stream",
     "text": [
      "badgeType\n",
      "both badges      1407\n",
      "best_answerer     888\n",
      "identity            1\n",
      "Name: count, dtype: int64\n"
     ]
    }
   ],
   "source": [
    "print(merged_df['badgeType'].value_counts())"
   ]
  },
  {
   "cell_type": "markdown",
   "id": "226de202",
   "metadata": {},
   "source": [
    "#### Normalize the Data Distribution of Quantitative Columns"
   ]
  },
  {
   "cell_type": "markdown",
   "id": "0b4772cd",
   "metadata": {},
   "source": [
    "CLT will be working to the means of samples, hence, we have to transform it from the individual data points to the samples means"
   ]
  },
  {
   "cell_type": "code",
   "execution_count": 22,
   "id": "5aff9960",
   "metadata": {},
   "outputs": [],
   "source": [
    "##### Transformation\n",
    "df_article_and_answer_info['log_voteupCount'] = np.log1p(df_article_and_answer_info['voteupCount'])\n",
    "df_article_and_answer_info['log_commentCount'] = np.log1p(df_article_and_answer_info['commentCount'])\n",
    "merged_df['log_followerCount'] = np.log1p(merged_df['followerCount'])\n",
    "merged_df['log_followingCount'] = np.log1p(merged_df['followingCount'])"
   ]
  },
  {
   "cell_type": "code",
   "execution_count": 23,
   "id": "c3dfce65",
   "metadata": {
    "scrolled": true
   },
   "outputs": [
    {
     "name": "stderr",
     "output_type": "stream",
     "text": [
      "C:\\Users\\fariz\\anaconda3\\Lib\\site-packages\\seaborn\\_oldcore.py:1498: FutureWarning: is_categorical_dtype is deprecated and will be removed in a future version. Use isinstance(dtype, CategoricalDtype) instead\n",
      "  if pd.api.types.is_categorical_dtype(vector):\n",
      "C:\\Users\\fariz\\anaconda3\\Lib\\site-packages\\seaborn\\_oldcore.py:1119: FutureWarning: use_inf_as_na option is deprecated and will be removed in a future version. Convert inf values to NaN before operating instead.\n",
      "  with pd.option_context('mode.use_inf_as_na', True):\n"
     ]
    },
    {
     "data": {
      "image/png": "[encoded data removed]",
      "text/plain": [
       "<Figure size 640x480 with 1 Axes>"
      ]
     },
     "metadata": {},
     "output_type": "display_data"
    }
   ],
   "source": [
    "sns.histplot(df_article_and_answer_info['log_voteupCount'],kde=True)\n",
    "plt.title('Log-transformed voteupCount')\n",
    "plt.show()"
   ]
  },
  {
   "cell_type": "code",
   "execution_count": 24,
   "id": "16bd071b",
   "metadata": {},
   "outputs": [
    {
     "name": "stderr",
     "output_type": "stream",
     "text": [
      "C:\\Users\\fariz\\anaconda3\\Lib\\site-packages\\seaborn\\_oldcore.py:1498: FutureWarning: is_categorical_dtype is deprecated and will be removed in a future version. Use isinstance(dtype, CategoricalDtype) instead\n",
      "  if pd.api.types.is_categorical_dtype(vector):\n",
      "C:\\Users\\fariz\\anaconda3\\Lib\\site-packages\\seaborn\\_oldcore.py:1119: FutureWarning: use_inf_as_na option is deprecated and will be removed in a future version. Convert inf values to NaN before operating instead.\n",
      "  with pd.option_context('mode.use_inf_as_na', True):\n"
     ]
    },
    {
     "data": {
      "image/png": "[encoded data removed]",
      "text/plain": [
       "<Figure size 640x480 with 1 Axes>"
      ]
     },
     "metadata": {},
     "output_type": "display_data"
    }
   ],
   "source": [
    "sns.histplot(df_article_and_answer_info['log_commentCount'],kde=True)\n",
    "plt.title('Log-transformed commentCount')\n",
    "plt.show()"
   ]
  },
  {
   "cell_type": "code",
   "execution_count": 25,
   "id": "83bb95c5",
   "metadata": {
    "scrolled": true
   },
   "outputs": [
    {
     "name": "stderr",
     "output_type": "stream",
     "text": [
      "C:\\Users\\fariz\\anaconda3\\Lib\\site-packages\\seaborn\\_oldcore.py:1498: FutureWarning: is_categorical_dtype is deprecated and will be removed in a future version. Use isinstance(dtype, CategoricalDtype) instead\n",
      "  if pd.api.types.is_categorical_dtype(vector):\n",
      "C:\\Users\\fariz\\anaconda3\\Lib\\site-packages\\seaborn\\_oldcore.py:1119: FutureWarning: use_inf_as_na option is deprecated and will be removed in a future version. Convert inf values to NaN before operating instead.\n",
      "  with pd.option_context('mode.use_inf_as_na', True):\n"
     ]
    },
    {
     "data": {
      "image/png": "[encoded data removed]",
      "text/plain": [
       "<Figure size 640x480 with 1 Axes>"
      ]
     },
     "metadata": {},
     "output_type": "display_data"
    }
   ],
   "source": [
    "sns.histplot(merged_df['log_followerCount'],kde=True)\n",
    "plt.title('Log-transformed followerCount')\n",
    "plt.show()"
   ]
  },
  {
   "cell_type": "code",
   "execution_count": 26,
   "id": "21beb750",
   "metadata": {},
   "outputs": [
    {
     "name": "stderr",
     "output_type": "stream",
     "text": [
      "C:\\Users\\fariz\\anaconda3\\Lib\\site-packages\\seaborn\\_oldcore.py:1498: FutureWarning: is_categorical_dtype is deprecated and will be removed in a future version. Use isinstance(dtype, CategoricalDtype) instead\n",
      "  if pd.api.types.is_categorical_dtype(vector):\n",
      "C:\\Users\\fariz\\anaconda3\\Lib\\site-packages\\seaborn\\_oldcore.py:1119: FutureWarning: use_inf_as_na option is deprecated and will be removed in a future version. Convert inf values to NaN before operating instead.\n",
      "  with pd.option_context('mode.use_inf_as_na', True):\n"
     ]
    },
    {
     "data": {
      "image/png": "[encoded data removed]",
      "text/plain": [
       "<Figure size 640x480 with 1 Axes>"
      ]
     },
     "metadata": {},
     "output_type": "display_data"
    }
   ],
   "source": [
    "sns.histplot(merged_df['log_followingCount'],kde=True)\n",
    "plt.title('Log-transformed followingCount')\n",
    "plt.show()"
   ]
  },
  {
   "cell_type": "markdown",
   "id": "f58ceeda",
   "metadata": {},
   "source": [
    "#### Normalize the Data Distribution of Qualitative Columns"
   ]
  },
  {
   "cell_type": "markdown",
   "id": "c3b5e837",
   "metadata": {},
   "source": [
    "the problem that arises from the qualitative columns is the imbalance proportion between two group.**However** , based on my hypotheses and research questions I developed, it is acceptable to have an imbalanced qualitative distribution because our focuses on identifying different badges, different content, and get the result from the differences."
   ]
  },
  {
   "cell_type": "markdown",
   "id": "b128e08c",
   "metadata": {},
   "source": [
    "# Merging the tables needed"
   ]
  },
  {
   "cell_type": "code",
   "execution_count": 27,
   "id": "34522f96",
   "metadata": {},
   "outputs": [
    {
     "name": "stdout",
     "output_type": "stream",
     "text": [
      "(458685, 9)\n"
     ]
    }
   ],
   "source": [
    "## Checking how many influencers that get viral answers or articles within 10 years\n",
    "merged_df_article_content=pd.merge(df_article_content,df_article_and_answer_info,on='id')\n",
    "print(merged_df_article_content.shape)"
   ]
  },
  {
   "cell_type": "code",
   "execution_count": 28,
   "id": "b8796cf1",
   "metadata": {},
   "outputs": [
    {
     "data": {
      "text/plain": [
       "(760398, 16)"
      ]
     },
     "execution_count": 28,
     "metadata": {},
     "output_type": "execute_result"
    }
   ],
   "source": [
    "merged_article_timelines=pd.merge(merged_df_article_content,df_timeline, left_on='id',right_on='target_id', how='inner')\n",
    "merged_article_timelines.shape"
   ]
  },
  {
   "cell_type": "code",
   "execution_count": 29,
   "id": "ba5fd8bd",
   "metadata": {},
   "outputs": [
    {
     "data": {
      "text/plain": [
       "Index(['id', 'name', 'gender', 'badgeType', 'badgeDescription',\n",
       "       'followerCount', 'followingCount', 'log_followerCount',\n",
       "       'log_followingCount'],\n",
       "      dtype='object')"
      ]
     },
     "execution_count": 29,
     "metadata": {},
     "output_type": "execute_result"
    }
   ],
   "source": [
    "merged_df.columns"
   ]
  },
  {
   "cell_type": "code",
   "execution_count": 30,
   "id": "b5dafdd4",
   "metadata": {},
   "outputs": [],
   "source": [
    "merged_article_timelines=merged_article_timelines[['id_x', 'content', 'type', 'userId', 'voteupCount','commentCount','log_voteupCount','log_commentCount', 'created_time']]\n",
    "#merged_article_timelines=merged_article_timelines[['id_x', 'content', 'type', 'userId', 'voteupCount','commentCount', 'created_time']]"
   ]
  },
  {
   "cell_type": "code",
   "execution_count": 31,
   "id": "e0345fb4",
   "metadata": {},
   "outputs": [],
   "source": [
    "merged_article_timelines.rename(columns={'id_x':'id'},inplace=True)"
   ]
  },
  {
   "cell_type": "code",
   "execution_count": 32,
   "id": "41234dc0",
   "metadata": {},
   "outputs": [
    {
     "data": {
      "text/plain": [
       "(390173, 18)"
      ]
     },
     "execution_count": 32,
     "metadata": {},
     "output_type": "execute_result"
    }
   ],
   "source": [
    "result_df = pd.merge(merged_df, merged_article_timelines, left_on='id', right_on='userId',how='inner')\n",
    "result_df.shape"
   ]
  },
  {
   "cell_type": "code",
   "execution_count": 33,
   "id": "53da5a48",
   "metadata": {
    "scrolled": true
   },
   "outputs": [],
   "source": [
    "result_df.rename(columns={'id_x':'id'},inplace=True)"
   ]
  },
  {
   "cell_type": "code",
   "execution_count": 34,
   "id": "3dad311c",
   "metadata": {},
   "outputs": [
    {
     "data": {
      "text/html": [
       "<div>\n",
       "<style scoped>\n",
       "    .dataframe tbody tr th:only-of-type {\n",
       "        vertical-align: middle;\n",
       "    }\n",
       "\n",
       "    .dataframe tbody tr th {\n",
       "        vertical-align: top;\n",
       "    }\n",
       "\n",
       "    .dataframe thead th {\n",
       "        text-align: right;\n",
       "    }\n",
       "</style>\n",
       "<table border=\"1\" class=\"dataframe\">\n",
       "  <thead>\n",
       "    <tr style=\"text-align: right;\">\n",
       "      <th></th>\n",
       "      <th>id</th>\n",
       "      <th>name</th>\n",
       "      <th>gender</th>\n",
       "      <th>badgeType</th>\n",
       "      <th>badgeDescription</th>\n",
       "      <th>followerCount</th>\n",
       "      <th>followingCount</th>\n",
       "      <th>log_followerCount</th>\n",
       "      <th>log_followingCount</th>\n",
       "      <th>id_y</th>\n",
       "      <th>content</th>\n",
       "      <th>type</th>\n",
       "      <th>userId</th>\n",
       "      <th>voteupCount</th>\n",
       "      <th>commentCount</th>\n",
       "      <th>log_voteupCount</th>\n",
       "      <th>log_commentCount</th>\n",
       "      <th>created_time</th>\n",
       "    </tr>\n",
       "  </thead>\n",
       "  <tbody>\n",
       "    <tr>\n",
       "      <th>0</th>\n",
       "      <td>5b4c4c40369aa3294b09f8e4bd715f23</td>\n",
       "      <td>megadrive2</td>\n",
       "      <td>1</td>\n",
       "      <td>both badges</td>\n",
       "      <td>NaN</td>\n",
       "      <td>2188905</td>\n",
       "      <td>249</td>\n",
       "      <td>14.598912</td>\n",
       "      <td>5.521461</td>\n",
       "      <td>19580471</td>\n",
       "      <td>&lt;p data-pid=\"Tgmqs63t\"&gt;貌似各行各业都有一些外人看来难到匪夷所思的专门...</td>\n",
       "      <td>article</td>\n",
       "      <td>5b4c4c40369aa3294b09f8e4bd715f23</td>\n",
       "      <td>430</td>\n",
       "      <td>78</td>\n",
       "      <td>6.066108</td>\n",
       "      <td>4.369448</td>\n",
       "      <td>2021-02-08 12:40:21</td>\n",
       "    </tr>\n",
       "    <tr>\n",
       "      <th>1</th>\n",
       "      <td>5b4c4c40369aa3294b09f8e4bd715f23</td>\n",
       "      <td>megadrive2</td>\n",
       "      <td>1</td>\n",
       "      <td>both badges</td>\n",
       "      <td>NaN</td>\n",
       "      <td>2188905</td>\n",
       "      <td>249</td>\n",
       "      <td>14.598912</td>\n",
       "      <td>5.521461</td>\n",
       "      <td>19589083</td>\n",
       "      <td>&lt;p data-pid=\"7VSZYvUW\"&gt;原载于[《二次元狂热》第18期 2010年4月...</td>\n",
       "      <td>article</td>\n",
       "      <td>5b4c4c40369aa3294b09f8e4bd715f23</td>\n",
       "      <td>312</td>\n",
       "      <td>43</td>\n",
       "      <td>5.746203</td>\n",
       "      <td>3.784190</td>\n",
       "      <td>2019-05-09 02:50:54</td>\n",
       "    </tr>\n",
       "    <tr>\n",
       "      <th>2</th>\n",
       "      <td>5b4c4c40369aa3294b09f8e4bd715f23</td>\n",
       "      <td>megadrive2</td>\n",
       "      <td>1</td>\n",
       "      <td>both badges</td>\n",
       "      <td>NaN</td>\n",
       "      <td>2188905</td>\n",
       "      <td>249</td>\n",
       "      <td>14.598912</td>\n",
       "      <td>5.521461</td>\n",
       "      <td>19665604</td>\n",
       "      <td>&lt;p data-pid=\"NUNBKvaT\"&gt;这是从回答的问题转过来的，因为我提到ATARI...</td>\n",
       "      <td>article</td>\n",
       "      <td>5b4c4c40369aa3294b09f8e4bd715f23</td>\n",
       "      <td>330</td>\n",
       "      <td>63</td>\n",
       "      <td>5.802118</td>\n",
       "      <td>4.158883</td>\n",
       "      <td>2018-02-08 14:54:21</td>\n",
       "    </tr>\n",
       "    <tr>\n",
       "      <th>3</th>\n",
       "      <td>5b4c4c40369aa3294b09f8e4bd715f23</td>\n",
       "      <td>megadrive2</td>\n",
       "      <td>1</td>\n",
       "      <td>both badges</td>\n",
       "      <td>NaN</td>\n",
       "      <td>2188905</td>\n",
       "      <td>249</td>\n",
       "      <td>14.598912</td>\n",
       "      <td>5.521461</td>\n",
       "      <td>19687058</td>\n",
       "      <td>&lt;p data-pid=\"Wh8RYbYk\"&gt;来自本题答案&lt;/p&gt;&lt;p data-pid=\"...</td>\n",
       "      <td>article</td>\n",
       "      <td>5b4c4c40369aa3294b09f8e4bd715f23</td>\n",
       "      <td>803</td>\n",
       "      <td>134</td>\n",
       "      <td>6.689599</td>\n",
       "      <td>4.905275</td>\n",
       "      <td>2019-10-13 17:22:08</td>\n",
       "    </tr>\n",
       "    <tr>\n",
       "      <th>4</th>\n",
       "      <td>5b4c4c40369aa3294b09f8e4bd715f23</td>\n",
       "      <td>megadrive2</td>\n",
       "      <td>1</td>\n",
       "      <td>both badges</td>\n",
       "      <td>NaN</td>\n",
       "      <td>2188905</td>\n",
       "      <td>249</td>\n",
       "      <td>14.598912</td>\n",
       "      <td>5.521461</td>\n",
       "      <td>19687058</td>\n",
       "      <td>&lt;p data-pid=\"Wh8RYbYk\"&gt;来自本题答案&lt;/p&gt;&lt;p data-pid=\"...</td>\n",
       "      <td>article</td>\n",
       "      <td>5b4c4c40369aa3294b09f8e4bd715f23</td>\n",
       "      <td>803</td>\n",
       "      <td>134</td>\n",
       "      <td>6.689599</td>\n",
       "      <td>4.905275</td>\n",
       "      <td>2020-11-30 05:52:00</td>\n",
       "    </tr>\n",
       "  </tbody>\n",
       "</table>\n",
       "</div>"
      ],
      "text/plain": [
       "                                 id        name  gender    badgeType  \\\n",
       "0  5b4c4c40369aa3294b09f8e4bd715f23  megadrive2       1  both badges   \n",
       "1  5b4c4c40369aa3294b09f8e4bd715f23  megadrive2       1  both badges   \n",
       "2  5b4c4c40369aa3294b09f8e4bd715f23  megadrive2       1  both badges   \n",
       "3  5b4c4c40369aa3294b09f8e4bd715f23  megadrive2       1  both badges   \n",
       "4  5b4c4c40369aa3294b09f8e4bd715f23  megadrive2       1  both badges   \n",
       "\n",
       "  badgeDescription  followerCount  followingCount  log_followerCount  \\\n",
       "0              NaN        2188905             249          14.598912   \n",
       "1              NaN        2188905             249          14.598912   \n",
       "2              NaN        2188905             249          14.598912   \n",
       "3              NaN        2188905             249          14.598912   \n",
       "4              NaN        2188905             249          14.598912   \n",
       "\n",
       "   log_followingCount      id_y  \\\n",
       "0            5.521461  19580471   \n",
       "1            5.521461  19589083   \n",
       "2            5.521461  19665604   \n",
       "3            5.521461  19687058   \n",
       "4            5.521461  19687058   \n",
       "\n",
       "                                             content     type  \\\n",
       "0  <p data-pid=\"Tgmqs63t\">貌似各行各业都有一些外人看来难到匪夷所思的专门...  article   \n",
       "1  <p data-pid=\"7VSZYvUW\">原载于[《二次元狂热》第18期 2010年4月...  article   \n",
       "2  <p data-pid=\"NUNBKvaT\">这是从回答的问题转过来的，因为我提到ATARI...  article   \n",
       "3  <p data-pid=\"Wh8RYbYk\">来自本题答案</p><p data-pid=\"...  article   \n",
       "4  <p data-pid=\"Wh8RYbYk\">来自本题答案</p><p data-pid=\"...  article   \n",
       "\n",
       "                             userId  voteupCount  commentCount  \\\n",
       "0  5b4c4c40369aa3294b09f8e4bd715f23          430            78   \n",
       "1  5b4c4c40369aa3294b09f8e4bd715f23          312            43   \n",
       "2  5b4c4c40369aa3294b09f8e4bd715f23          330            63   \n",
       "3  5b4c4c40369aa3294b09f8e4bd715f23          803           134   \n",
       "4  5b4c4c40369aa3294b09f8e4bd715f23          803           134   \n",
       "\n",
       "   log_voteupCount  log_commentCount        created_time  \n",
       "0         6.066108          4.369448 2021-02-08 12:40:21  \n",
       "1         5.746203          3.784190 2019-05-09 02:50:54  \n",
       "2         5.802118          4.158883 2018-02-08 14:54:21  \n",
       "3         6.689599          4.905275 2019-10-13 17:22:08  \n",
       "4         6.689599          4.905275 2020-11-30 05:52:00  "
      ]
     },
     "execution_count": 34,
     "metadata": {},
     "output_type": "execute_result"
    }
   ],
   "source": [
    "result_df.head()"
   ]
  }
 ],
 "metadata": {
  "kernelspec": {
   "display_name": "Python 3 (ipykernel)",
   "language": "python",
   "name": "python3"
  },
  "language_info": {
   "codemirror_mode": {
    "name": "ipython",
    "version": 3
   },
   "file_extension": ".py",
   "mimetype": "text/x-python",
   "name": "python",
   "nbconvert_exporter": "python",
   "pygments_lexer": "ipython3",
   "version": "3.11.4"
  }
 },
 "nbformat": 4,
 "nbformat_minor": 5
}
